{
 "cells": [
  {
   "cell_type": "markdown",
   "metadata": {},
   "source": [
    "<table>\n",
    "    <tr>\n",
    "        <td><img src=\"./imagenes/Macc.png\" width=\"400\"/></td>\n",
    "        <td>&nbsp;</td>\n",
    "        <td>\n",
    "            <h1 style=\"color:blue;text-align:left\">Inteligencia Artificial</h1></td>\n",
    "        <td>\n",
    "            <table><tr>\n",
    "            <tp><p style=\"font-size:150%;text-align:center\">Notebook</p></tp>\n",
    "            <tp><p style=\"font-size:150%;text-align:center\">Proyecto Razonamiento </p></tp>\n",
    "            </tr></table>\n",
    "        </td>\n",
    "    </tr>\n",
    "</table>\n",
    "\n",
    "---\n"
   ]
  },
  {
   "cell_type": "markdown",
   "metadata": {},
   "source": [
    "## Objetivo <a class=\"anchor\" id=\"inicio\"></a>\n",
    "\n",
    "En este notebook se aplicará el cálculo de eventos para el razonamiento y así a partir de un texto responder preguntas específicas.\n",
    "\n",
    "\n",
    "## Secciones\n",
    "\n",
    "Desarrollaremos el proyecto en las siguientes secciones:\n",
    "\n",
    "* [Constantes y predicados.](#consts)\n",
    "* [Fluentes, eventos e instantes.](#fluev)\n",
    "* [Situación.](#sits)\n",
    "* [Axiomas.](#axs)\n",
    "* [Codificación de fórmulas fundamentadas.](#cod)\n",
    "* [Uso de DPLL.](#dpll)"
   ]
  },
  {
   "cell_type": "code",
   "execution_count": 225,
   "metadata": {},
   "outputs": [],
   "source": [
    "from logica import *\n",
    "from ec import *\n",
    "import pycosat"
   ]
  },
  {
   "cell_type": "markdown",
   "metadata": {},
   "source": [
    "# Constantes y predicados \n",
    "<a class=\"anchor\" id=\"consts\"></a>\n",
    "\n",
    "([Volver al inicio](#inicio))\n",
    "\n"
   ]
  },
  {
   "cell_type": "markdown",
   "metadata": {},
   "source": [
    "**Constantes:**"
   ]
  },
  {
   "cell_type": "code",
   "execution_count": 43,
   "metadata": {},
   "outputs": [
    {
     "name": "stdout",
     "output_type": "stream",
     "text": [
      "nombre:juan, tipo:agente, clase:Constante\n"
     ]
    }
   ],
   "source": [
    "j = Constante(tipo='agente', nombre='juan')\n",
    "print(f'nombre:{j}, tipo:{j.tipo}, clase:{obtener_type(j)}')"
   ]
  },
  {
   "cell_type": "code",
   "execution_count": 44,
   "metadata": {},
   "outputs": [
    {
     "name": "stdout",
     "output_type": "stream",
     "text": [
      "nombre:laptop, tipo:objeto, clase:Constante\n"
     ]
    }
   ],
   "source": [
    "l = Constante(tipo='objeto', nombre='laptop')\n",
    "print(f'nombre:{l}, tipo:{l.tipo}, clase:{obtener_type(l)}')"
   ]
  },
  {
   "cell_type": "code",
   "execution_count": 45,
   "metadata": {
    "scrolled": true
   },
   "outputs": [
    {
     "name": "stdout",
     "output_type": "stream",
     "text": [
      "nombre:bogota, tipo:lugar, clase:Constante\n"
     ]
    }
   ],
   "source": [
    "b = Constante(tipo='lugar', nombre='bogota')\n",
    "print(f'nombre:{b}, tipo:{b.tipo}, clase:{obtener_type(b)}')"
   ]
  },
  {
   "cell_type": "code",
   "execution_count": 46,
   "metadata": {},
   "outputs": [
    {
     "name": "stdout",
     "output_type": "stream",
     "text": [
      "nombre:medellin, tipo:lugar, clase:Constante\n"
     ]
    }
   ],
   "source": [
    "m = Constante(tipo='lugar', nombre='medellin')\n",
    "print(f'nombre:{m}, tipo:{m.tipo}, clase:{obtener_type(m)}')"
   ]
  },
  {
   "cell_type": "markdown",
   "metadata": {},
   "source": [
    "**Predicados:**"
   ]
  },
  {
   "cell_type": "code",
   "execution_count": 47,
   "metadata": {},
   "outputs": [
    {
     "name": "stdout",
     "output_type": "stream",
     "text": [
      "str:Teniendo(juan,laptop), nombre:Teniendo, \n",
      "tipos:['agente', 'objeto'], argumentos:[<ec.Constante object at 0x000002466C38C790>, <ec.Constante object at 0x000002466C38CF40>], clase:Atomo\n"
     ]
    }
   ],
   "source": [
    "atomo = Atomo(nombre='teniendo', tipos_argumentos=['agente','objeto'], argumentos=[j,l])\n",
    "print(f'str:{atomo}, nombre:{atomo.nombre}, \\ntipos:{atomo.predicado.tipos_argumentos}, argumentos:{atomo.argumentos}, clase:{obtener_type(atomo)}')"
   ]
  },
  {
   "cell_type": "code",
   "execution_count": 48,
   "metadata": {},
   "outputs": [
    {
     "name": "stdout",
     "output_type": "stream",
     "text": [
      "str:Estando(juan,bogota), nombre:Estando, \n",
      "tipos:['agente', 'lugar'], argumentos:[<ec.Constante object at 0x000002466C38C790>, <ec.Constante object at 0x000002466C38C370>], clase:Atomo\n"
     ]
    }
   ],
   "source": [
    "atomo2 = Atomo(nombre='estando', tipos_argumentos=['agente','lugar'], argumentos=[j,b])\n",
    "print(f'str:{atomo2}, nombre:{atomo2.nombre}, \\ntipos:{atomo2.predicado.tipos_argumentos}, argumentos:{atomo2.argumentos}, clase:{obtener_type(atomo2)}')"
   ]
  },
  {
   "cell_type": "code",
   "execution_count": 49,
   "metadata": {},
   "outputs": [
    {
     "name": "stdout",
     "output_type": "stream",
     "text": [
      "str:Estando(juan,medellin), nombre:Estando, \n",
      "tipos:['agente', 'lugar'], argumentos:[<ec.Constante object at 0x000002466C38C790>, <ec.Constante object at 0x000002466C38C460>], clase:Atomo\n"
     ]
    }
   ],
   "source": [
    "atomo3 = Atomo(nombre='estando', tipos_argumentos=['agente','lugar'], argumentos=[j,m])\n",
    "print(f'str:{atomo3}, nombre:{atomo3.nombre}, \\ntipos:{atomo3.predicado.tipos_argumentos}, argumentos:{atomo3.argumentos}, clase:{obtener_type(atomo3)}')"
   ]
  },
  {
   "cell_type": "code",
   "execution_count": 50,
   "metadata": {},
   "outputs": [
    {
     "name": "stdout",
     "output_type": "stream",
     "text": [
      "str:Estando(laptop,bogota), nombre:Estando, \n",
      "tipos:['objeto', 'lugar'], argumentos:[<ec.Constante object at 0x000002466C38CF40>, <ec.Constante object at 0x000002466C38C370>], clase:Atomo\n"
     ]
    }
   ],
   "source": [
    "atomo4 = Atomo(nombre='estando', tipos_argumentos=['objeto','lugar'], argumentos=[l,b])\n",
    "print(f'str:{atomo4}, nombre:{atomo4.nombre}, \\ntipos:{atomo4.predicado.tipos_argumentos}, argumentos:{atomo4.argumentos}, clase:{obtener_type(atomo4)}')"
   ]
  },
  {
   "cell_type": "code",
   "execution_count": 51,
   "metadata": {},
   "outputs": [
    {
     "name": "stdout",
     "output_type": "stream",
     "text": [
      "str:Estando(laptop,medellin), nombre:Estando, \n",
      "tipos:['objeto', 'lugar'], argumentos:[<ec.Constante object at 0x000002466C38CF40>, <ec.Constante object at 0x000002466C38C460>], clase:Atomo\n"
     ]
    }
   ],
   "source": [
    "atomo5 = Atomo(nombre='estando', tipos_argumentos=['objeto','lugar'], argumentos=[l,m])\n",
    "print(f'str:{atomo5}, nombre:{atomo5.nombre}, \\ntipos:{atomo5.predicado.tipos_argumentos}, argumentos:{atomo5.argumentos}, clase:{obtener_type(atomo5)}')"
   ]
  },
  {
   "cell_type": "markdown",
   "metadata": {},
   "source": [
    "# Fluentes, eventos e instantes \n",
    "<a class=\"anchor\" id=\"fluev\"></a>\n",
    "\n",
    "([Volver al inicio](#inicio))\n",
    "\n"
   ]
  },
  {
   "cell_type": "markdown",
   "metadata": {},
   "source": [
    "**Fluentes:**"
   ]
  },
  {
   "cell_type": "code",
   "execution_count": 52,
   "metadata": {},
   "outputs": [
    {
     "name": "stdout",
     "output_type": "stream",
     "text": [
      "str:f_0, nombre:Teniendo, tipo:fluente, clase:Fluente\n"
     ]
    }
   ],
   "source": [
    "flu = Fluente(nombre=atomo.nombre, atomo=atomo)\n",
    "print(f'str:{flu}, nombre:{flu.nombre}, tipo:{flu.tipo}, clase:{obtener_type(flu)}')"
   ]
  },
  {
   "cell_type": "code",
   "execution_count": 53,
   "metadata": {},
   "outputs": [
    {
     "name": "stdout",
     "output_type": "stream",
     "text": [
      "str:f_0, nombre:Estando, tipo:fluente, clase:Fluente\n"
     ]
    }
   ],
   "source": [
    "flu2 = Fluente(nombre=atomo2.nombre, atomo=atomo2)\n",
    "print(f'str:{flu2}, nombre:{flu2.nombre}, tipo:{flu2.tipo}, clase:{obtener_type(flu2)}')"
   ]
  },
  {
   "cell_type": "code",
   "execution_count": 54,
   "metadata": {},
   "outputs": [
    {
     "name": "stdout",
     "output_type": "stream",
     "text": [
      "str:f_0, nombre:Estando, tipo:fluente, clase:Fluente\n"
     ]
    }
   ],
   "source": [
    "flu3 = Fluente(nombre=atomo3.nombre, atomo=atomo3)\n",
    "print(f'str:{flu3}, nombre:{flu3.nombre}, tipo:{flu3.tipo}, clase:{obtener_type(flu3)}')"
   ]
  },
  {
   "cell_type": "code",
   "execution_count": 55,
   "metadata": {},
   "outputs": [
    {
     "name": "stdout",
     "output_type": "stream",
     "text": [
      "str:f_0, nombre:Estando, tipo:fluente, clase:Fluente\n"
     ]
    }
   ],
   "source": [
    "flu4 = Fluente(nombre=atomo4.nombre, atomo=atomo4)\n",
    "print(f'str:{flu4}, nombre:{flu4.nombre}, tipo:{flu4.tipo}, clase:{obtener_type(flu4)}')"
   ]
  },
  {
   "cell_type": "code",
   "execution_count": 56,
   "metadata": {},
   "outputs": [
    {
     "name": "stdout",
     "output_type": "stream",
     "text": [
      "str:f_0, nombre:Estando, tipo:fluente, clase:Fluente\n"
     ]
    }
   ],
   "source": [
    "flu5 = Fluente(nombre=atomo5.nombre, atomo=atomo5)\n",
    "print(f'str:{flu5}, nombre:{flu5.nombre}, tipo:{flu5.tipo}, clase:{obtener_type(flu5)}')"
   ]
  },
  {
   "cell_type": "markdown",
   "metadata": {},
   "source": [
    "**Eventos:**"
   ]
  },
  {
   "cell_type": "code",
   "execution_count": 57,
   "metadata": {},
   "outputs": [
    {
     "name": "stdout",
     "output_type": "stream",
     "text": [
      "str:e_0, nombre:ESTAR, tipo:evento, clase:Evento\n",
      "['ESTAR(e_0)', 'SUJETO(e_0,juan)', 'EN(e_0,bogota)']\n"
     ]
    }
   ],
   "source": [
    "e = Evento(nombre='ESTAR', sujeto=j, lugar=b)\n",
    "print(f'str:{e}, nombre:{e.nombre}, tipo:{e.tipo}, clase:{obtener_type(e)}')\n",
    "print(e.formular())"
   ]
  },
  {
   "cell_type": "code",
   "execution_count": 58,
   "metadata": {},
   "outputs": [
    {
     "name": "stdout",
     "output_type": "stream",
     "text": [
      "str:e_0, nombre:VIAJAR, tipo:evento, clase:Evento\n",
      "['VIAJAR(e_0)', 'SUJETO(e_0,juan)', 'EN(e_0,bogota)', 'HACIA(e_0,medellin)']\n"
     ]
    }
   ],
   "source": [
    "e2 = Evento('VIAJAR', sujeto=j, lugar=b, lugar_2=m)\n",
    "print(f'str:{e2}, nombre:{e2.nombre}, tipo:{e2.tipo}, clase:{obtener_type(e2)}')\n",
    "print(e2.formular())"
   ]
  },
  {
   "cell_type": "code",
   "execution_count": 59,
   "metadata": {},
   "outputs": [
    {
     "name": "stdout",
     "output_type": "stream",
     "text": [
      "str:e_0, nombre:LLEVAR, tipo:evento, clase:Evento\n",
      "['LLEVAR(e_0)', 'SUJETO(e_0,juan)', 'OBJETO_D(e_0,laptop)']\n"
     ]
    }
   ],
   "source": [
    "e3 = Evento(nombre='LLEVAR', sujeto=j, objeto_d=l)\n",
    "print(f'str:{e3}, nombre:{e3.nombre}, tipo:{e3.tipo}, clase:{obtener_type(e3)}')\n",
    "print(e3.formular())"
   ]
  },
  {
   "cell_type": "markdown",
   "metadata": {},
   "source": [
    "**Instantes:**"
   ]
  },
  {
   "cell_type": "code",
   "execution_count": 60,
   "metadata": {},
   "outputs": [
    {
     "name": "stdout",
     "output_type": "stream",
     "text": [
      "valor:0, tipo:instante, clase:Instante\n"
     ]
    }
   ],
   "source": [
    "t = Instante(0)  #mañana del 10 de diciembre\n",
    "print(f'valor:{t.valor}, tipo:{t.tipo}, clase:{obtener_type(t)}')"
   ]
  },
  {
   "cell_type": "code",
   "execution_count": 61,
   "metadata": {},
   "outputs": [
    {
     "name": "stdout",
     "output_type": "stream",
     "text": [
      "valor:1, tipo:instante, clase:Instante\n"
     ]
    }
   ],
   "source": [
    "t1 = Instante(1)  #noche del 10 de diciembre\n",
    "print(f'valor:{t1.valor}, tipo:{t1.tipo}, clase:{obtener_type(t1)}')"
   ]
  },
  {
   "cell_type": "code",
   "execution_count": 62,
   "metadata": {},
   "outputs": [
    {
     "name": "stdout",
     "output_type": "stream",
     "text": [
      "valor:2, tipo:instante, clase:Instante\n"
     ]
    }
   ],
   "source": [
    "t2 = Instante(2)  #mañana del 11 de diciembre\n",
    "print(f'valor:{t2.valor}, tipo:{t2.tipo}, clase:{obtener_type(t2)}')"
   ]
  },
  {
   "cell_type": "code",
   "execution_count": 63,
   "metadata": {},
   "outputs": [
    {
     "name": "stdout",
     "output_type": "stream",
     "text": [
      "valor:3, tipo:instante, clase:Instante\n"
     ]
    }
   ],
   "source": [
    "t3 = Instante(3)  #noche del 11 de diciembre\n",
    "print(f'valor:{t3.valor}, tipo:{t3.tipo}, clase:{obtener_type(t3)}')"
   ]
  },
  {
   "cell_type": "markdown",
   "metadata": {},
   "source": [
    "# Situación <a class=\"anchor\" id=\"sits\"></a>\n",
    "\n",
    "([Volver al inicio](#inicio))"
   ]
  },
  {
   "cell_type": "code",
   "execution_count": 224,
   "metadata": {},
   "outputs": [
    {
     "name": "stdout",
     "output_type": "stream",
     "text": [
      "Instantes: ['0', '1', '2', '3']\n",
      "\n",
      "Entidades:\n",
      "\tTipo: agente\n",
      "\tjuan\n",
      "\n",
      "\tTipo: objeto\n",
      "\tlaptop\n",
      "\n",
      "\tTipo: lugar\n",
      "\tbogota\n",
      "\tmedellin\n",
      "\n",
      "Eventos:\n",
      "\te_0:\n",
      "\tESTAR(e_0)\n",
      "\tSUJETO(e_0,juan)\n",
      "\tOBJETO_D(e_0,bogota)\n",
      "\n",
      "\te_1:\n",
      "\tVIAJAR(e_1)\n",
      "\tSUJETO(e_1,juan)\n",
      "\tOBJETO_D(e_1,bogota)\n",
      "\tOBJETO_I(e_1,medellin)\n",
      "\n",
      "\te_2:\n",
      "\tLLEVAR(e_2)\n",
      "\tSUJETO(e_2,juan)\n",
      "\tOBJETO_D(e_2,laptop)\n",
      "\n",
      "Fluentes:\n",
      "\tf_0: Teniendo(juan,laptop)\n",
      "\tf_1: Estando(juan,bogota)\n",
      "\tf_2: Estando(juan,medellin)\n",
      "\tf_3: Estando(laptop,bogota)\n",
      "\tf_4: Estando(laptop,medellin)\n",
      "\n"
     ]
    }
   ],
   "source": [
    "sit = Situacion()\n",
    "sit.nueva_entidad(j.tipo, j.nombre)\n",
    "sit.nueva_entidad(l.tipo, l.nombre)\n",
    "sit.nueva_entidad(b.tipo, b.nombre)\n",
    "sit.nueva_entidad(m.tipo, m.nombre)\n",
    "sit.instantes = [t,t1,t2,t3]\n",
    "sit.nuevo_evento(e.nombre, e.sujeto, e.lugar)\n",
    "sit.nuevo_evento(e2.nombre, e2.sujeto, e2.lugar, e2.lugar_2)\n",
    "sit.nuevo_evento(e3.nombre, e3.sujeto, e3.objeto_d)\n",
    "sit.nuevo_fluente(atomo)\n",
    "sit.nuevo_fluente(atomo2)\n",
    "sit.nuevo_fluente(atomo3)\n",
    "sit.nuevo_fluente(atomo4)\n",
    "sit.nuevo_fluente(atomo5)\n",
    "\n",
    "print(sit)"
   ]
  },
  {
   "cell_type": "markdown",
   "metadata": {},
   "source": [
    "---"
   ]
  },
  {
   "cell_type": "markdown",
   "metadata": {},
   "source": [
    "# Fórmulas <a class=\"anchor\" id=\"forms\"></a>\n",
    "\n",
    "([Volver al inicio](#inicio))\n",
    "\n",
    "Tenemos fórmulas referentes a la relación entre las constantes de eventos, fluentes e instantes:\n",
    "\n",
    "* Happens(e,t)\n",
    "* HoldsAt(f,t)\n",
    "* Initiates(e,f,t)\n",
    "* Terminates(e,f,t)"
   ]
  },
  {
   "cell_type": "code",
   "execution_count": 24,
   "metadata": {
    "scrolled": true
   },
   "outputs": [
    {
     "name": "stdout",
     "output_type": "stream",
     "text": [
      "JUAN ESTÁ EN BOGOTÁ EL 10 DE DICIEMBRE EN LA NOCHE\n",
      "Happens(e_0,1)\n",
      "JUAN VIAJA DE BOGOTÁ A MEDELLÍN EL 11 DE DICIEMBRE EN LA MAÑANA\n",
      "Happens(e_1,2)\n",
      "JUAN TIENE LA LAPTOP CONSIGO\n",
      "Happens(e_2,0)\n"
     ]
    }
   ],
   "source": [
    "#HAPPENS(E,T)\n",
    "\n",
    "#JUAN ESTÁ EN BOGOTÁ EL 10 DE DICIEMBRE EN LA NOCHE\n",
    "# b = BOGOTÁ\n",
    "t = sit.instantes[1]\n",
    "e = sit.eventos[0] #e = Evento(nombre='ESTAR', sujeto=j, lugar=b)\n",
    "haps = Happens(0,0,e=e,t=t)\n",
    "print(\"JUAN ESTÁ EN BOGOTÁ EL 10 DE DICIEMBRE EN LA NOCHE\")\n",
    "print(haps)\n",
    "\n",
    "\n",
    "#JUAN VIAJA DE BOGOTÁ A MEDELLÍN EL 11 DE DICIEMBRE EN LA MAÑANA\n",
    "t = sit.instantes[2]\n",
    "e = sit.eventos[1] #e2 = Evento('VIAJAR', sujeto=j, lugar=b, lugar_2=m)\n",
    "haps2 = Happens(0,1,e=e,t=t)\n",
    "print(\"JUAN VIAJA DE BOGOTÁ A MEDELLÍN EL 11 DE DICIEMBRE EN LA MAÑANA\")\n",
    "print(haps2)\n",
    "\n",
    "#JUAN LLEVA LA LAPTOP CONSIGO \n",
    "# j = JUAN\n",
    "# l = LAPTOP\n",
    "t = sit.instantes[0] \n",
    "e = sit.eventos[2] #e3 = Evento(nombre='LLEVAR', sujeto=j, objeto_d=l)\n",
    "haps3 = Happens(0, 0, e=e,t=t)\n",
    "print(\"JUAN TIENE LA LAPTOP CONSIGO\")\n",
    "print(haps3)\n"
   ]
  },
  {
   "cell_type": "code",
   "execution_count": 25,
   "metadata": {},
   "outputs": [
    {
     "name": "stdout",
     "output_type": "stream",
     "text": [
      "Teniendo(juan,laptop) es verdadero desde el 10 de diciembre en la noche\n",
      "HoldsAt(f_0,0)\n",
      "Estando(juan,bogota) es verdadero el 10 de diciembre en la noche\n",
      "HoldsAt(f_1,1)\n",
      "Estando(juan,medellin) es verdadero desde el 11 de diciembre en la mañana\n",
      "HoldsAt(f_2,2)\n",
      "Estando(laptop, bogota) es verdadero el 10 de diciembre en la noche\n",
      "HoldsAt(f_3,1)\n",
      "Estando(laptop, medellin) es verdadero desde el 11 de diciembre en la mañana\n",
      "HoldsAt(f_4,2)\n"
     ]
    }
   ],
   "source": [
    "#HoldsAt(f,t)\n",
    "# Teniendo(juan,laptop) es verdadero desde el 10 de diciembre en la mañana\n",
    "flu = sit.fluentes[0]\n",
    "t = sit.instantes[0]\n",
    "holds = HoldsAt(0,0,flu, t)\n",
    "print(\"Teniendo(juan,laptop) es verdadero desde el 10 de diciembre en la noche\")\n",
    "print(holds)\n",
    "\n",
    "# Estando(juan,bogota) es verdadero el 10 de diciembre en la noche\n",
    "flu = sit.fluentes[1]\n",
    "t = sit.instantes[1]\n",
    "holds2 = HoldsAt(0,0,flu, t)\n",
    "print(\"Estando(juan,bogota) es verdadero el 10 de diciembre en la noche\")\n",
    "print(holds2)\n",
    "\n",
    "# Estando(juan,medellin) es verdadero desde el 11 de diciembre en la mañana\n",
    "flu = sit.fluentes[2]\n",
    "t = sit.instantes[2]\n",
    "holds3 = HoldsAt(0,1,flu, t)\n",
    "print(\"Estando(juan,medellin) es verdadero desde el 11 de diciembre en la mañana\")\n",
    "print(holds3)\n",
    "\n",
    "# Estando(laptop, bogota) es verdadero el 10 de diciembre en la noche\n",
    "flu = sit.fluentes[3]\n",
    "t = sit.instantes[1]\n",
    "holds4 = HoldsAt(0,0,flu, t)\n",
    "print(\"Estando(laptop, bogota) es verdadero el 10 de diciembre en la noche\")\n",
    "print(holds4)\n",
    "\n",
    "# Estando(laptop, medellin) es verdadero desde el 11 de diciembre en la mañana\n",
    "flu = sit.fluentes[4]\n",
    "t = sit.instantes[2]\n",
    "holds5 = HoldsAt(0,1,flu, t)\n",
    "print(\"Estando(laptop, medellin) es verdadero desde el 11 de diciembre en la mañana\")\n",
    "print(holds5)\n",
    "\n"
   ]
  },
  {
   "cell_type": "code",
   "execution_count": 26,
   "metadata": {},
   "outputs": [
    {
     "name": "stdout",
     "output_type": "stream",
     "text": [
      "si Juan está en bogotá el 10 de diciembre en la noche, Estando(juan,bogota) es verdadero el 10 de dic en la noche\n",
      "Initiates(e_0,f_1,0)\n",
      "si Juan viaja de Bogotá a Medellín el 11 de diciembre en la mañana, Estando(juan,bogota) es falso desde el 11 de dic en la mañana\n",
      "Terminates(e_1,f_1,1)\n",
      "si Juan viaja de Bogotá a Medellín el 11 de dic en la mañana, Estando(juan,medellin) es verdadero desde el 11 de dic en la mañana\n",
      "Initiates(e_1,f_2,1)\n",
      "si Juan está en bogotá el 10 de diciembre en la noche, Estando(laptop,bogota) es verdadero el 10 de dic en la noche\n",
      "Initiates(e_0,f_3,0)\n",
      "si Juan viaja de Bogotá a Medellín el 11 de dic en la mañana, Estando(laptop,bogota) es falso desde el 11 de dic en la mañana\n",
      "Terminates(e_1,f_3,1)\n",
      "si Juan viaja de Bogotá a Medellín el 11 de dic en la mañana, Estando(laptop,medellin) es verdadero desde el 11 de dic en la mañana\n",
      "Initiates(e_1,f_4,1)\n",
      "si Juan tiene la laptop el 10 de diciembre en la noche, Teniendo(juan,laptop) es verdadero desde el 10 de dic en la noche  \n",
      "Initiates(e_2,f_1,0)\n"
     ]
    }
   ],
   "source": [
    "#Initiates(e,f,t)\n",
    "#si Juan está en bogotá el 10 de diciembre en la noche, Estando(juan,bogota) es verdadero el 10 de dic en la noche \n",
    "flu = sit.fluentes[1] #Estando(juan,bogota)\n",
    "e = sit.eventos[0] #e = Evento(nombre='ESTAR', sujeto=j, lugar=b)\n",
    "t = sit.instantes[0] \n",
    "init = Initiates(0,0,0,e,flu,t)\n",
    "print(\"si Juan está en bogotá el 10 de diciembre en la noche, Estando(juan,bogota) es verdadero el 10 de dic en la noche\")\n",
    "print(init)\n",
    "#Terminates(e,f,t)\n",
    "#si Juan viaja 11 de diciembre en la mañana, Estando(juan,bogota) es falso desde el 11 de dic en la mañana \n",
    "flu = sit.fluentes[1] #Estando(juan,bogota)\n",
    "e = sit.eventos[1] #e2 = Evento('VIAJAR', sujeto=j, lugar=b, lugar_2=m)\n",
    "t = sit.instantes[1] \n",
    "term = Terminates(0,0,1,e,flu,t)\n",
    "print(\"si Juan viaja de Bogotá a Medellín el 11 de diciembre en la mañana, Estando(juan,bogota) es falso desde el 11 de dic en la mañana\")\n",
    "print(term)\n",
    "\n",
    "#Initiates(e,f,t)\n",
    "#si Juan viaja de Bogotá a Medellín el 11 de dic en la mañana, Estando(juan,medellin) es verdadero desde el 11 de dic en la mañana \n",
    "flu = sit.fluentes[2] #Estando(juan,medellin)\n",
    "e = sit.eventos[1] #e2 = Evento('VIAJAR', sujeto=j, lugar=b, lugar_2=m)\n",
    "t = sit.instantes[1] \n",
    "init2 = Initiates(0,0,1,e,flu,t)\n",
    "print(\"si Juan viaja de Bogotá a Medellín el 11 de dic en la mañana, Estando(juan,medellin) es verdadero desde el 11 de dic en la mañana\")\n",
    "print(init2)\n",
    "\n",
    "#Initiates(e,f,t)\n",
    "#si Juan está en bogotá el 10 de diciembre en la noche, Estando(laptop,bogota) es verdadero el 10 de dic en la noche \n",
    "flu = sit.fluentes[3] #Estando(laptop,bogota)\n",
    "e = sit.eventos[0] #e = Evento(nombre='ESTAR', sujeto=l, lugar=b)\n",
    "t = sit.instantes[0] \n",
    "init3 = Initiates(0,0,0,e,flu,t)\n",
    "print(\"si Juan está en bogotá el 10 de diciembre en la noche, Estando(laptop,bogota) es verdadero el 10 de dic en la noche\")\n",
    "print(init3)\n",
    "#Terminates(e,f,t)\n",
    "#si Juan viaja de Bogotá a Medellín el 11 de dic en la mañana, Estando(laptop,bogota) es falso desde el 11 de dic en la mañana\n",
    "flu = sit.fluentes[3] #Estando(laptop,bogota)\n",
    "e = sit.eventos[1] #e2 = Evento('VIAJAR', sujeto=j, lugar=b, lugar_2=m)\n",
    "t = sit.instantes[1] \n",
    "term2 = Terminates(0,0,1,e,flu,t)\n",
    "print(\"si Juan viaja de Bogotá a Medellín el 11 de dic en la mañana, Estando(laptop,bogota) es falso desde el 11 de dic en la mañana\")\n",
    "print(term2)\n",
    "\n",
    "#Initiates(e,f,t)\n",
    "#si Juan viaja de Bogotá a Medellín el 11 de dic en la mañana, Estando(laptop,medellin) es verdadero desde el 11 de dic en la mañana\n",
    "flu = sit.fluentes[4] #Estando(laptop,medellin)\n",
    "e = sit.eventos[1] #e2 = Evento('VIAJAR', sujeto=j, lugar=b, lugar_2=m)\n",
    "t = sit.instantes[1] \n",
    "init4 = Initiates(0,0,1,e,flu,t)\n",
    "print(\"si Juan viaja de Bogotá a Medellín el 11 de dic en la mañana, Estando(laptop,medellin) es verdadero desde el 11 de dic en la mañana\")\n",
    "print(init4)\n",
    "\n",
    "#Initiates(e,f,t)\n",
    "#si Juan tiene la laptop el 10 de diciembre en la noche, Teniendo(juan,laptop) es verdadero desde el 10 de dic en la noche  \n",
    "flu = sit.fluentes[1] #Teniendo(juan,laptop)\n",
    "e = sit.eventos[2] #e3 = Evento(nombre='LLEVAR', sujeto=j, objeto_d=l)\n",
    "t = sit.instantes[0] \n",
    "init5 = Initiates(0,0,0,e,flu,t)\n",
    "print(\"si Juan tiene la laptop el 10 de diciembre en la noche, Teniendo(juan,laptop) es verdadero desde el 10 de dic en la noche  \")\n",
    "print(init5)"
   ]
  },
  {
   "cell_type": "markdown",
   "metadata": {},
   "source": [
    "# Axiomas <a class=\"anchor\" id=\"axs\"></a>\n",
    "\n",
    "([Volver al inicio](#inicio))\n"
   ]
  },
  {
   "cell_type": "markdown",
   "metadata": {},
   "source": [
    "Juan tiene la laptop en todos los instantes:\n",
    "\n",
    "$\\forall ti0, Initiates(e_2,f_0,ti0)$"
   ]
  },
  {
   "cell_type": "code",
   "execution_count": 256,
   "metadata": {},
   "outputs": [
    {
     "name": "stdout",
     "output_type": "stream",
     "text": [
      "(((Initiates(e_2,f_0,0)∧Initiates(e_2,f_0,1))∧Initiates(e_2,f_0,2))∧Initiates(e_2,f_0,3))\n"
     ]
    }
   ],
   "source": [
    "A1 = '$\\forall ti0, Initiates(e_2,f_0,ti0)$'\n",
    "B1 = sit.parse_cadena(A1)\n",
    "print(B1)"
   ]
  },
  {
   "cell_type": "markdown",
   "metadata": {},
   "source": [
    "StoppedIn(t1, f ,t2)\n",
    "def ≡ ∃e,t (Happens(e,t) ∧ t1 < t < t2 ∧ Terminates(e, f ,t))\n",
    "\n",
    "$\\exists ev0, \\exists ti0, (((Happens(ev0,ti0)∧ti1<ti0)∧ti0<ti2)∧ Terminates(ev0,f_0,ti0))$"
   ]
  },
  {
   "cell_type": "code",
   "execution_count": 257,
   "metadata": {},
   "outputs": [
    {
     "name": "stdout",
     "output_type": "stream",
     "text": [
      "((((((((Happens(e_0,0)∧ti1<0)∧0<ti2)∧Terminates(e_0,f_0,0))∨(((Happens(e_0,1)∧ti1<1)∧1<ti2)∧Terminates(e_0,f_0,1)))∨(((Happens(e_0,2)∧ti1<2)∧2<ti2)∧Terminates(e_0,f_0,2)))∨(((Happens(e_0,3)∧ti1<3)∧3<ti2)∧Terminates(e_0,f_0,3)))∨((((((Happens(e_1,0)∧ti1<0)∧0<ti2)∧Terminates(e_1,f_0,0))∨(((Happens(e_1,1)∧ti1<1)∧1<ti2)∧Terminates(e_1,f_0,1)))∨(((Happens(e_1,2)∧ti1<2)∧2<ti2)∧Terminates(e_1,f_0,2)))∨(((Happens(e_1,3)∧ti1<3)∧3<ti2)∧Terminates(e_1,f_0,3))))∨((((((Happens(e_2,0)∧ti1<0)∧0<ti2)∧Terminates(e_2,f_0,0))∨(((Happens(e_2,1)∧ti1<1)∧1<ti2)∧Terminates(e_2,f_0,1)))∨(((Happens(e_2,2)∧ti1<2)∧2<ti2)∧Terminates(e_2,f_0,2)))∨(((Happens(e_2,3)∧ti1<3)∧3<ti2)∧Terminates(e_2,f_0,3))))\n"
     ]
    }
   ],
   "source": [
    "A2 = '$\\exists ev0, \\exists ti0, (((Happens(ev0,ti0)∧ti1<ti0)∧ti0<ti2)∧Terminates(ev0,f_0,ti0))$'\n",
    "B2 = sit.parse_cadena(A2)\n",
    "print(B2) "
   ]
  },
  {
   "cell_type": "markdown",
   "metadata": {},
   "source": [
    "**Axioma1:**\n",
    "Juan tiene la laptop en todos los intantes\n",
    "\n",
    "$\\forall ti1, \\forall ti2, ((((Happens(e_2,ti1)∧Initiates(e_2,f_0,ti1))∧ti1<ti2)∧¬A2)⇒HoldsAt(f_0,ti2))$"
   ]
  },
  {
   "cell_type": "code",
   "execution_count": 258,
   "metadata": {
    "scrolled": true
   },
   "outputs": [
    {
     "name": "stdout",
     "output_type": "stream",
     "text": [
      "((((((((((Happens(e_2,0)∧Initiates(e_2,f_0,0))∧0<0)∧-((((((((Happens(e_0,0)∧0<0)∧0<0)∧Terminates(e_0,f_0,0))∨(((Happens(e_0,1)∧0<1)∧1<0)∧Terminates(e_0,f_0,1)))∨(((Happens(e_0,2)∧0<2)∧2<0)∧Terminates(e_0,f_0,2)))∨(((Happens(e_0,3)∧0<3)∧3<0)∧Terminates(e_0,f_0,3)))∨((((((Happens(e_1,0)∧0<0)∧0<0)∧Terminates(e_1,f_0,0))∨(((Happens(e_1,1)∧0<1)∧1<0)∧Terminates(e_1,f_0,1)))∨(((Happens(e_1,2)∧0<2)∧2<0)∧Terminates(e_1,f_0,2)))∨(((Happens(e_1,3)∧0<3)∧3<0)∧Terminates(e_1,f_0,3))))∨((((((Happens(e_2,0)∧0<0)∧0<0)∧Terminates(e_2,f_0,0))∨(((Happens(e_2,1)∧0<1)∧1<0)∧Terminates(e_2,f_0,1)))∨(((Happens(e_2,2)∧0<2)∧2<0)∧Terminates(e_2,f_0,2)))∨(((Happens(e_2,3)∧0<3)∧3<0)∧Terminates(e_2,f_0,3)))))⇒HoldsAt(f_0,0))∧((((Happens(e_2,0)∧Initiates(e_2,f_0,0))∧0<1)∧-((((((((Happens(e_0,0)∧0<0)∧0<1)∧Terminates(e_0,f_0,0))∨(((Happens(e_0,1)∧0<1)∧1<1)∧Terminates(e_0,f_0,1)))∨(((Happens(e_0,2)∧0<2)∧2<1)∧Terminates(e_0,f_0,2)))∨(((Happens(e_0,3)∧0<3)∧3<1)∧Terminates(e_0,f_0,3)))∨((((((Happens(e_1,0)∧0<0)∧0<1)∧Terminates(e_1,f_0,0))∨(((Happens(e_1,1)∧0<1)∧1<1)∧Terminates(e_1,f_0,1)))∨(((Happens(e_1,2)∧0<2)∧2<1)∧Terminates(e_1,f_0,2)))∨(((Happens(e_1,3)∧0<3)∧3<1)∧Terminates(e_1,f_0,3))))∨((((((Happens(e_2,0)∧0<0)∧0<1)∧Terminates(e_2,f_0,0))∨(((Happens(e_2,1)∧0<1)∧1<1)∧Terminates(e_2,f_0,1)))∨(((Happens(e_2,2)∧0<2)∧2<1)∧Terminates(e_2,f_0,2)))∨(((Happens(e_2,3)∧0<3)∧3<1)∧Terminates(e_2,f_0,3)))))⇒HoldsAt(f_0,1)))∧((((Happens(e_2,0)∧Initiates(e_2,f_0,0))∧0<2)∧-((((((((Happens(e_0,0)∧0<0)∧0<2)∧Terminates(e_0,f_0,0))∨(((Happens(e_0,1)∧0<1)∧1<2)∧Terminates(e_0,f_0,1)))∨(((Happens(e_0,2)∧0<2)∧2<2)∧Terminates(e_0,f_0,2)))∨(((Happens(e_0,3)∧0<3)∧3<2)∧Terminates(e_0,f_0,3)))∨((((((Happens(e_1,0)∧0<0)∧0<2)∧Terminates(e_1,f_0,0))∨(((Happens(e_1,1)∧0<1)∧1<2)∧Terminates(e_1,f_0,1)))∨(((Happens(e_1,2)∧0<2)∧2<2)∧Terminates(e_1,f_0,2)))∨(((Happens(e_1,3)∧0<3)∧3<2)∧Terminates(e_1,f_0,3))))∨((((((Happens(e_2,0)∧0<0)∧0<2)∧Terminates(e_2,f_0,0))∨(((Happens(e_2,1)∧0<1)∧1<2)∧Terminates(e_2,f_0,1)))∨(((Happens(e_2,2)∧0<2)∧2<2)∧Terminates(e_2,f_0,2)))∨(((Happens(e_2,3)∧0<3)∧3<2)∧Terminates(e_2,f_0,3)))))⇒HoldsAt(f_0,2)))∧((((Happens(e_2,0)∧Initiates(e_2,f_0,0))∧0<3)∧-((((((((Happens(e_0,0)∧0<0)∧0<3)∧Terminates(e_0,f_0,0))∨(((Happens(e_0,1)∧0<1)∧1<3)∧Terminates(e_0,f_0,1)))∨(((Happens(e_0,2)∧0<2)∧2<3)∧Terminates(e_0,f_0,2)))∨(((Happens(e_0,3)∧0<3)∧3<3)∧Terminates(e_0,f_0,3)))∨((((((Happens(e_1,0)∧0<0)∧0<3)∧Terminates(e_1,f_0,0))∨(((Happens(e_1,1)∧0<1)∧1<3)∧Terminates(e_1,f_0,1)))∨(((Happens(e_1,2)∧0<2)∧2<3)∧Terminates(e_1,f_0,2)))∨(((Happens(e_1,3)∧0<3)∧3<3)∧Terminates(e_1,f_0,3))))∨((((((Happens(e_2,0)∧0<0)∧0<3)∧Terminates(e_2,f_0,0))∨(((Happens(e_2,1)∧0<1)∧1<3)∧Terminates(e_2,f_0,1)))∨(((Happens(e_2,2)∧0<2)∧2<3)∧Terminates(e_2,f_0,2)))∨(((Happens(e_2,3)∧0<3)∧3<3)∧Terminates(e_2,f_0,3)))))⇒HoldsAt(f_0,3)))∧(((((((Happens(e_2,1)∧Initiates(e_2,f_0,1))∧1<0)∧-((((((((Happens(e_0,0)∧1<0)∧0<0)∧Terminates(e_0,f_0,0))∨(((Happens(e_0,1)∧1<1)∧1<0)∧Terminates(e_0,f_0,1)))∨(((Happens(e_0,2)∧1<2)∧2<0)∧Terminates(e_0,f_0,2)))∨(((Happens(e_0,3)∧1<3)∧3<0)∧Terminates(e_0,f_0,3)))∨((((((Happens(e_1,0)∧1<0)∧0<0)∧Terminates(e_1,f_0,0))∨(((Happens(e_1,1)∧1<1)∧1<0)∧Terminates(e_1,f_0,1)))∨(((Happens(e_1,2)∧1<2)∧2<0)∧Terminates(e_1,f_0,2)))∨(((Happens(e_1,3)∧1<3)∧3<0)∧Terminates(e_1,f_0,3))))∨((((((Happens(e_2,0)∧1<0)∧0<0)∧Terminates(e_2,f_0,0))∨(((Happens(e_2,1)∧1<1)∧1<0)∧Terminates(e_2,f_0,1)))∨(((Happens(e_2,2)∧1<2)∧2<0)∧Terminates(e_2,f_0,2)))∨(((Happens(e_2,3)∧1<3)∧3<0)∧Terminates(e_2,f_0,3)))))⇒HoldsAt(f_0,0))∧((((Happens(e_2,1)∧Initiates(e_2,f_0,1))∧1<1)∧-((((((((Happens(e_0,0)∧1<0)∧0<1)∧Terminates(e_0,f_0,0))∨(((Happens(e_0,1)∧1<1)∧1<1)∧Terminates(e_0,f_0,1)))∨(((Happens(e_0,2)∧1<2)∧2<1)∧Terminates(e_0,f_0,2)))∨(((Happens(e_0,3)∧1<3)∧3<1)∧Terminates(e_0,f_0,3)))∨((((((Happens(e_1,0)∧1<0)∧0<1)∧Terminates(e_1,f_0,0))∨(((Happens(e_1,1)∧1<1)∧1<1)∧Terminates(e_1,f_0,1)))∨(((Happens(e_1,2)∧1<2)∧2<1)∧Terminates(e_1,f_0,2)))∨(((Happens(e_1,3)∧1<3)∧3<1)∧Terminates(e_1,f_0,3))))∨((((((Happens(e_2,0)∧1<0)∧0<1)∧Terminates(e_2,f_0,0))∨(((Happens(e_2,1)∧1<1)∧1<1)∧Terminates(e_2,f_0,1)))∨(((Happens(e_2,2)∧1<2)∧2<1)∧Terminates(e_2,f_0,2)))∨(((Happens(e_2,3)∧1<3)∧3<1)∧Terminates(e_2,f_0,3)))))⇒HoldsAt(f_0,1)))∧((((Happens(e_2,1)∧Initiates(e_2,f_0,1))∧1<2)∧-((((((((Happens(e_0,0)∧1<0)∧0<2)∧Terminates(e_0,f_0,0))∨(((Happens(e_0,1)∧1<1)∧1<2)∧Terminates(e_0,f_0,1)))∨(((Happens(e_0,2)∧1<2)∧2<2)∧Terminates(e_0,f_0,2)))∨(((Happens(e_0,3)∧1<3)∧3<2)∧Terminates(e_0,f_0,3)))∨((((((Happens(e_1,0)∧1<0)∧0<2)∧Terminates(e_1,f_0,0))∨(((Happens(e_1,1)∧1<1)∧1<2)∧Terminates(e_1,f_0,1)))∨(((Happens(e_1,2)∧1<2)∧2<2)∧Terminates(e_1,f_0,2)))∨(((Happens(e_1,3)∧1<3)∧3<2)∧Terminates(e_1,f_0,3))))∨((((((Happens(e_2,0)∧1<0)∧0<2)∧Terminates(e_2,f_0,0))∨(((Happens(e_2,1)∧1<1)∧1<2)∧Terminates(e_2,f_0,1)))∨(((Happens(e_2,2)∧1<2)∧2<2)∧Terminates(e_2,f_0,2)))∨(((Happens(e_2,3)∧1<3)∧3<2)∧Terminates(e_2,f_0,3)))))⇒HoldsAt(f_0,2)))∧((((Happens(e_2,1)∧Initiates(e_2,f_0,1))∧1<3)∧-((((((((Happens(e_0,0)∧1<0)∧0<3)∧Terminates(e_0,f_0,0))∨(((Happens(e_0,1)∧1<1)∧1<3)∧Terminates(e_0,f_0,1)))∨(((Happens(e_0,2)∧1<2)∧2<3)∧Terminates(e_0,f_0,2)))∨(((Happens(e_0,3)∧1<3)∧3<3)∧Terminates(e_0,f_0,3)))∨((((((Happens(e_1,0)∧1<0)∧0<3)∧Terminates(e_1,f_0,0))∨(((Happens(e_1,1)∧1<1)∧1<3)∧Terminates(e_1,f_0,1)))∨(((Happens(e_1,2)∧1<2)∧2<3)∧Terminates(e_1,f_0,2)))∨(((Happens(e_1,3)∧1<3)∧3<3)∧Terminates(e_1,f_0,3))))∨((((((Happens(e_2,0)∧1<0)∧0<3)∧Terminates(e_2,f_0,0))∨(((Happens(e_2,1)∧1<1)∧1<3)∧Terminates(e_2,f_0,1)))∨(((Happens(e_2,2)∧1<2)∧2<3)∧Terminates(e_2,f_0,2)))∨(((Happens(e_2,3)∧1<3)∧3<3)∧Terminates(e_2,f_0,3)))))⇒HoldsAt(f_0,3))))∧(((((((Happens(e_2,2)∧Initiates(e_2,f_0,2))∧2<0)∧-((((((((Happens(e_0,0)∧2<0)∧0<0)∧Terminates(e_0,f_0,0))∨(((Happens(e_0,1)∧2<1)∧1<0)∧Terminates(e_0,f_0,1)))∨(((Happens(e_0,2)∧2<2)∧2<0)∧Terminates(e_0,f_0,2)))∨(((Happens(e_0,3)∧2<3)∧3<0)∧Terminates(e_0,f_0,3)))∨((((((Happens(e_1,0)∧2<0)∧0<0)∧Terminates(e_1,f_0,0))∨(((Happens(e_1,1)∧2<1)∧1<0)∧Terminates(e_1,f_0,1)))∨(((Happens(e_1,2)∧2<2)∧2<0)∧Terminates(e_1,f_0,2)))∨(((Happens(e_1,3)∧2<3)∧3<0)∧Terminates(e_1,f_0,3))))∨((((((Happens(e_2,0)∧2<0)∧0<0)∧Terminates(e_2,f_0,0))∨(((Happens(e_2,1)∧2<1)∧1<0)∧Terminates(e_2,f_0,1)))∨(((Happens(e_2,2)∧2<2)∧2<0)∧Terminates(e_2,f_0,2)))∨(((Happens(e_2,3)∧2<3)∧3<0)∧Terminates(e_2,f_0,3)))))⇒HoldsAt(f_0,0))∧((((Happens(e_2,2)∧Initiates(e_2,f_0,2))∧2<1)∧-((((((((Happens(e_0,0)∧2<0)∧0<1)∧Terminates(e_0,f_0,0))∨(((Happens(e_0,1)∧2<1)∧1<1)∧Terminates(e_0,f_0,1)))∨(((Happens(e_0,2)∧2<2)∧2<1)∧Terminates(e_0,f_0,2)))∨(((Happens(e_0,3)∧2<3)∧3<1)∧Terminates(e_0,f_0,3)))∨((((((Happens(e_1,0)∧2<0)∧0<1)∧Terminates(e_1,f_0,0))∨(((Happens(e_1,1)∧2<1)∧1<1)∧Terminates(e_1,f_0,1)))∨(((Happens(e_1,2)∧2<2)∧2<1)∧Terminates(e_1,f_0,2)))∨(((Happens(e_1,3)∧2<3)∧3<1)∧Terminates(e_1,f_0,3))))∨((((((Happens(e_2,0)∧2<0)∧0<1)∧Terminates(e_2,f_0,0))∨(((Happens(e_2,1)∧2<1)∧1<1)∧Terminates(e_2,f_0,1)))∨(((Happens(e_2,2)∧2<2)∧2<1)∧Terminates(e_2,f_0,2)))∨(((Happens(e_2,3)∧2<3)∧3<1)∧Terminates(e_2,f_0,3)))))⇒HoldsAt(f_0,1)))∧((((Happens(e_2,2)∧Initiates(e_2,f_0,2))∧2<2)∧-((((((((Happens(e_0,0)∧2<0)∧0<2)∧Terminates(e_0,f_0,0))∨(((Happens(e_0,1)∧2<1)∧1<2)∧Terminates(e_0,f_0,1)))∨(((Happens(e_0,2)∧2<2)∧2<2)∧Terminates(e_0,f_0,2)))∨(((Happens(e_0,3)∧2<3)∧3<2)∧Terminates(e_0,f_0,3)))∨((((((Happens(e_1,0)∧2<0)∧0<2)∧Terminates(e_1,f_0,0))∨(((Happens(e_1,1)∧2<1)∧1<2)∧Terminates(e_1,f_0,1)))∨(((Happens(e_1,2)∧2<2)∧2<2)∧Terminates(e_1,f_0,2)))∨(((Happens(e_1,3)∧2<3)∧3<2)∧Terminates(e_1,f_0,3))))∨((((((Happens(e_2,0)∧2<0)∧0<2)∧Terminates(e_2,f_0,0))∨(((Happens(e_2,1)∧2<1)∧1<2)∧Terminates(e_2,f_0,1)))∨(((Happens(e_2,2)∧2<2)∧2<2)∧Terminates(e_2,f_0,2)))∨(((Happens(e_2,3)∧2<3)∧3<2)∧Terminates(e_2,f_0,3)))))⇒HoldsAt(f_0,2)))∧((((Happens(e_2,2)∧Initiates(e_2,f_0,2))∧2<3)∧-((((((((Happens(e_0,0)∧2<0)∧0<3)∧Terminates(e_0,f_0,0))∨(((Happens(e_0,1)∧2<1)∧1<3)∧Terminates(e_0,f_0,1)))∨(((Happens(e_0,2)∧2<2)∧2<3)∧Terminates(e_0,f_0,2)))∨(((Happens(e_0,3)∧2<3)∧3<3)∧Terminates(e_0,f_0,3)))∨((((((Happens(e_1,0)∧2<0)∧0<3)∧Terminates(e_1,f_0,0))∨(((Happens(e_1,1)∧2<1)∧1<3)∧Terminates(e_1,f_0,1)))∨(((Happens(e_1,2)∧2<2)∧2<3)∧Terminates(e_1,f_0,2)))∨(((Happens(e_1,3)∧2<3)∧3<3)∧Terminates(e_1,f_0,3))))∨((((((Happens(e_2,0)∧2<0)∧0<3)∧Terminates(e_2,f_0,0))∨(((Happens(e_2,1)∧2<1)∧1<3)∧Terminates(e_2,f_0,1)))∨(((Happens(e_2,2)∧2<2)∧2<3)∧Terminates(e_2,f_0,2)))∨(((Happens(e_2,3)∧2<3)∧3<3)∧Terminates(e_2,f_0,3)))))⇒HoldsAt(f_0,3))))∧(((((((Happens(e_2,3)∧Initiates(e_2,f_0,3))∧3<0)∧-((((((((Happens(e_0,0)∧3<0)∧0<0)∧Terminates(e_0,f_0,0))∨(((Happens(e_0,1)∧3<1)∧1<0)∧Terminates(e_0,f_0,1)))∨(((Happens(e_0,2)∧3<2)∧2<0)∧Terminates(e_0,f_0,2)))∨(((Happens(e_0,3)∧3<3)∧3<0)∧Terminates(e_0,f_0,3)))∨((((((Happens(e_1,0)∧3<0)∧0<0)∧Terminates(e_1,f_0,0))∨(((Happens(e_1,1)∧3<1)∧1<0)∧Terminates(e_1,f_0,1)))∨(((Happens(e_1,2)∧3<2)∧2<0)∧Terminates(e_1,f_0,2)))∨(((Happens(e_1,3)∧3<3)∧3<0)∧Terminates(e_1,f_0,3))))∨((((((Happens(e_2,0)∧3<0)∧0<0)∧Terminates(e_2,f_0,0))∨(((Happens(e_2,1)∧3<1)∧1<0)∧Terminates(e_2,f_0,1)))∨(((Happens(e_2,2)∧3<2)∧2<0)∧Terminates(e_2,f_0,2)))∨(((Happens(e_2,3)∧3<3)∧3<0)∧Terminates(e_2,f_0,3)))))⇒HoldsAt(f_0,0))∧((((Happens(e_2,3)∧Initiates(e_2,f_0,3))∧3<1)∧-((((((((Happens(e_0,0)∧3<0)∧0<1)∧Terminates(e_0,f_0,0))∨(((Happens(e_0,1)∧3<1)∧1<1)∧Terminates(e_0,f_0,1)))∨(((Happens(e_0,2)∧3<2)∧2<1)∧Terminates(e_0,f_0,2)))∨(((Happens(e_0,3)∧3<3)∧3<1)∧Terminates(e_0,f_0,3)))∨((((((Happens(e_1,0)∧3<0)∧0<1)∧Terminates(e_1,f_0,0))∨(((Happens(e_1,1)∧3<1)∧1<1)∧Terminates(e_1,f_0,1)))∨(((Happens(e_1,2)∧3<2)∧2<1)∧Terminates(e_1,f_0,2)))∨(((Happens(e_1,3)∧3<3)∧3<1)∧Terminates(e_1,f_0,3))))∨((((((Happens(e_2,0)∧3<0)∧0<1)∧Terminates(e_2,f_0,0))∨(((Happens(e_2,1)∧3<1)∧1<1)∧Terminates(e_2,f_0,1)))∨(((Happens(e_2,2)∧3<2)∧2<1)∧Terminates(e_2,f_0,2)))∨(((Happens(e_2,3)∧3<3)∧3<1)∧Terminates(e_2,f_0,3)))))⇒HoldsAt(f_0,1)))∧((((Happens(e_2,3)∧Initiates(e_2,f_0,3))∧3<2)∧-((((((((Happens(e_0,0)∧3<0)∧0<2)∧Terminates(e_0,f_0,0))∨(((Happens(e_0,1)∧3<1)∧1<2)∧Terminates(e_0,f_0,1)))∨(((Happens(e_0,2)∧3<2)∧2<2)∧Terminates(e_0,f_0,2)))∨(((Happens(e_0,3)∧3<3)∧3<2)∧Terminates(e_0,f_0,3)))∨((((((Happens(e_1,0)∧3<0)∧0<2)∧Terminates(e_1,f_0,0))∨(((Happens(e_1,1)∧3<1)∧1<2)∧Terminates(e_1,f_0,1)))∨(((Happens(e_1,2)∧3<2)∧2<2)∧Terminates(e_1,f_0,2)))∨(((Happens(e_1,3)∧3<3)∧3<2)∧Terminates(e_1,f_0,3))))∨((((((Happens(e_2,0)∧3<0)∧0<2)∧Terminates(e_2,f_0,0))∨(((Happens(e_2,1)∧3<1)∧1<2)∧Terminates(e_2,f_0,1)))∨(((Happens(e_2,2)∧3<2)∧2<2)∧Terminates(e_2,f_0,2)))∨(((Happens(e_2,3)∧3<3)∧3<2)∧Terminates(e_2,f_0,3)))))⇒HoldsAt(f_0,2)))∧((((Happens(e_2,3)∧Initiates(e_2,f_0,3))∧3<3)∧-((((((((Happens(e_0,0)∧3<0)∧0<3)∧Terminates(e_0,f_0,0))∨(((Happens(e_0,1)∧3<1)∧1<3)∧Terminates(e_0,f_0,1)))∨(((Happens(e_0,2)∧3<2)∧2<3)∧Terminates(e_0,f_0,2)))∨(((Happens(e_0,3)∧3<3)∧3<3)∧Terminates(e_0,f_0,3)))∨((((((Happens(e_1,0)∧3<0)∧0<3)∧Terminates(e_1,f_0,0))∨(((Happens(e_1,1)∧3<1)∧1<3)∧Terminates(e_1,f_0,1)))∨(((Happens(e_1,2)∧3<2)∧2<3)∧Terminates(e_1,f_0,2)))∨(((Happens(e_1,3)∧3<3)∧3<3)∧Terminates(e_1,f_0,3))))∨((((((Happens(e_2,0)∧3<0)∧0<3)∧Terminates(e_2,f_0,0))∨(((Happens(e_2,1)∧3<1)∧1<3)∧Terminates(e_2,f_0,1)))∨(((Happens(e_2,2)∧3<2)∧2<3)∧Terminates(e_2,f_0,2)))∨(((Happens(e_2,3)∧3<3)∧3<3)∧Terminates(e_2,f_0,3)))))⇒HoldsAt(f_0,3))))\n"
     ]
    }
   ],
   "source": [
    "\n",
    "Axioma1 = f'$\\forall ti1, \\forall ti2, ((((Happens(e_2,ti1)∧Initiates(e_2,f_0,ti1))∧ti1<ti2)∧-{A2})⇒HoldsAt(f_0,ti2))$'\n",
    "axioma1 = sit.parse_cadena(Axioma1)\n",
    "print(axioma1)"
   ]
  },
  {
   "cell_type": "markdown",
   "metadata": {},
   "source": [
    "**Axioma2:**\n",
    "Si Juan está en Bogotá entonces la laptop está en Bogotá:\n",
    "\n",
    "$\\forall ti0, (HoldsAt(f_1,ti0)∧HoldsAt(f_0,ti0))⇒HoldsAt(f_3,ti0)$"
   ]
  },
  {
   "cell_type": "code",
   "execution_count": 259,
   "metadata": {},
   "outputs": [
    {
     "name": "stdout",
     "output_type": "stream",
     "text": [
      "(((((HoldsAt(f_1,0)∧HoldsAt(f_0,0))⇒HoldsAt(f_3,0))∧((HoldsAt(f_1,1)∧HoldsAt(f_0,1))⇒HoldsAt(f_3,1)))∧((HoldsAt(f_1,2)∧HoldsAt(f_0,2))⇒HoldsAt(f_3,2)))∧((HoldsAt(f_1,3)∧HoldsAt(f_0,3))⇒HoldsAt(f_3,3)))\n"
     ]
    }
   ],
   "source": [
    "Axioma2 = f'$\\forall ti0, ((HoldsAt(f_1,ti0)∧HoldsAt(f_0,ti0))⇒HoldsAt(f_3,ti0))$'\n",
    "axioma2 = sit.parse_cadena(Axioma2)\n",
    "print(axioma2)"
   ]
  },
  {
   "cell_type": "markdown",
   "metadata": {},
   "source": [
    "**Axioma3:**\n",
    "Si Juan está en Medellín entonces la laptop está en Medellín:\n",
    "\n",
    "$\\forall ti0, (HoldsAt(f_2,ti0)∧HoldsAt(f_0,ti0))⇒HoldsAt(f_4,ti0)$"
   ]
  },
  {
   "cell_type": "code",
   "execution_count": 260,
   "metadata": {},
   "outputs": [
    {
     "name": "stdout",
     "output_type": "stream",
     "text": [
      "(((((HoldsAt(f_2,0)∧HoldsAt(f_0,0))⇒HoldsAt(f_4,0))∧((HoldsAt(f_2,1)∧HoldsAt(f_0,1))⇒HoldsAt(f_4,1)))∧((HoldsAt(f_2,2)∧HoldsAt(f_0,2))⇒HoldsAt(f_4,2)))∧((HoldsAt(f_2,3)∧HoldsAt(f_0,3))⇒HoldsAt(f_4,3)))\n"
     ]
    }
   ],
   "source": [
    "Axioma3 = f'$\\forall ti3, ((HoldsAt(f_2,ti3)∧HoldsAt(f_0,ti3))⇒HoldsAt(f_4,ti3))$'\n",
    "axioma3 = sit.parse_cadena(Axioma3)\n",
    "print(axioma3)"
   ]
  },
  {
   "cell_type": "markdown",
   "metadata": {},
   "source": [
    "**Axioma4:**\n",
    "Si Juan viaja de Bogotá a Medellín entonces Juan está en Medellín:\n",
    "\n",
    "$\\forall ti0, (Happens(e_1,ti0)⇒(Terminates(e_1,f_1,ti0)∧Initiates(e_1,f_2,ti0)))$"
   ]
  },
  {
   "cell_type": "code",
   "execution_count": 261,
   "metadata": {},
   "outputs": [
    {
     "name": "stdout",
     "output_type": "stream",
     "text": [
      "(((Initiates(e_1,f_2,0)∧Initiates(e_1,f_2,1))∧Initiates(e_1,f_2,2))∧Initiates(e_1,f_2,3))\n"
     ]
    }
   ],
   "source": [
    "A4 = '$\\forall ti0, Initiates(e_1,f_2,ti0)$'\n",
    "B4 = sit.parse_cadena(A4)\n",
    "print(B4)"
   ]
  },
  {
   "cell_type": "code",
   "execution_count": 262,
   "metadata": {},
   "outputs": [
    {
     "name": "stdout",
     "output_type": "stream",
     "text": [
      "(((Terminates(e_1,f_1,0)∧Terminates(e_1,f_1,1))∧Terminates(e_1,f_1,2))∧Terminates(e_1,f_1,3))\n"
     ]
    }
   ],
   "source": [
    "A5 = '$\\forall ti0, Terminates(e_1,f_1,ti0)$'\n",
    "B5 = sit.parse_cadena(A5)\n",
    "print(B5)"
   ]
  },
  {
   "cell_type": "code",
   "execution_count": 263,
   "metadata": {},
   "outputs": [
    {
     "name": "stdout",
     "output_type": "stream",
     "text": [
      "((((Happens(e_1,0)⇒(Terminates(e_1,f_1,0)∧Initiates(e_1,f_2,0)))∧(Happens(e_1,1)⇒(Terminates(e_1,f_1,1)∧Initiates(e_1,f_2,1))))∧(Happens(e_1,2)⇒(Terminates(e_1,f_1,2)∧Initiates(e_1,f_2,2))))∧(Happens(e_1,3)⇒(Terminates(e_1,f_1,3)∧Initiates(e_1,f_2,3))))\n"
     ]
    }
   ],
   "source": [
    "Axioma4 = f'$\\forall ti0, (Happens(e_1,ti0)⇒(Terminates(e_1,f_1,ti0)∧Initiates(e_1,f_2,ti0)))$'\n",
    "axioma4 = sit.parse_cadena(Axioma4)\n",
    "print(axioma4)"
   ]
  },
  {
   "cell_type": "markdown",
   "metadata": {},
   "source": [
    "**Axioma5:**\n",
    "Si Juan está en Bogotá no está en Medellín:\n",
    "\n",
    "$\\forall ti0, HoldsAt(f_1,ti0)⇒-HoldsAt(f_2,ti0)$"
   ]
  },
  {
   "cell_type": "code",
   "execution_count": 264,
   "metadata": {},
   "outputs": [
    {
     "name": "stdout",
     "output_type": "stream",
     "text": [
      "((((HoldsAt(f_1,0)⇒-HoldsAt(f_2,0))∧(HoldsAt(f_1,1)⇒-HoldsAt(f_2,1)))∧(HoldsAt(f_1,2)⇒-HoldsAt(f_2,2)))∧(HoldsAt(f_1,3)⇒-HoldsAt(f_2,3)))\n"
     ]
    }
   ],
   "source": [
    "Axioma5 = f'$\\forall ti0, (HoldsAt(f_1,ti0)⇒-HoldsAt(f_2,ti0))$'\n",
    "axioma5 = sit.parse_cadena(Axioma5)\n",
    "print(axioma5)"
   ]
  },
  {
   "cell_type": "markdown",
   "metadata": {},
   "source": [
    "**Axioma6:**\n",
    "Juan está en Medellín no está en Bogotá:\n",
    "\n",
    "$\\forall ti0, HoldsAt(f_2,ti0)⇒-HoldsAt(f_1,ti0)$"
   ]
  },
  {
   "cell_type": "code",
   "execution_count": 265,
   "metadata": {},
   "outputs": [
    {
     "name": "stdout",
     "output_type": "stream",
     "text": [
      "((((HoldsAt(f_2,0)⇒-HoldsAt(f_1,0))∧(HoldsAt(f_2,1)⇒-HoldsAt(f_1,1)))∧(HoldsAt(f_2,2)⇒-HoldsAt(f_1,2)))∧(HoldsAt(f_2,3)⇒-HoldsAt(f_1,3)))\n"
     ]
    }
   ],
   "source": [
    "Axioma6 = f'$\\forall ti0, (HoldsAt(f_2,ti0)⇒-HoldsAt(f_1,ti0))$'\n",
    "axioma6 = sit.parse_cadena(Axioma6)\n",
    "print(axioma6)"
   ]
  },
  {
   "cell_type": "markdown",
   "metadata": {},
   "source": [
    "---"
   ]
  },
  {
   "cell_type": "markdown",
   "metadata": {},
   "source": [
    "# Codificación de fórmulas fundamentadas <a class=\"anchor\" id=\"cod\"></a>\n",
    "\n",
    "([Volver al inicio](#inicio))\n",
    "\n"
   ]
  },
  {
   "cell_type": "code",
   "execution_count": 266,
   "metadata": {},
   "outputs": [
    {
     "name": "stdout",
     "output_type": "stream",
     "text": [
      "Predicados:\n",
      " ['Happens', 'HoldsAt', 'Initiates', 'Terminates', 'Antes', 'SUJETO', 'VIAJAR', 'LLEVAR', 'OBJETO_D', 'ESTAR', 'OBJETO_I', 'Teniendo', 'Estando']\n",
      "\n",
      "Eventos, fluentes, instantes, objetos:\n",
      " ['e_0', 'e_1', 'e_2', 'f_0', 'f_1', 'f_2', 'f_3', 'f_4', '0', '1', '2', '3', 'juan', 'laptop', 'bogota', 'medellin']\n"
     ]
    }
   ],
   "source": [
    "sit.actualizar()\n",
    "sit.crear_descriptor()\n",
    "print(\"Predicados:\\n\", sit.predicados)\n",
    "print('')\n",
    "print(\"Eventos, fluentes, instantes, objetos:\\n\", sit.todos)"
   ]
  },
  {
   "cell_type": "code",
   "execution_count": 267,
   "metadata": {
    "scrolled": true
   },
   "outputs": [
    {
     "name": "stdout",
     "output_type": "stream",
     "text": [
      "$\f",
      "orall ti0, Initiates(e_2,f_0,ti0)$ => (((殌∧碌)∧薌)∧銌)\n",
      "$\f",
      "orall ti1, \f",
      "orall ti2, ((((Happens(e_2,ti1)∧Initiates(e_2,f_0,ti1))∧ti1<ti2)∧-$\\exists ev0, \\exists ti0, (((Happens(ev0,ti0)∧ti1<ti0)∧ti0<ti2)∧Terminates(ev0,f_0,ti0))$)⇒HoldsAt(f_0,ti2))$ => ((((((((((ޚ∧殌)∧߬)∧-((((((((ހ∧߬)∧߬)∧歳)∨(((ࡐ∧ࢼ)∧߹)∧硳))∨(((ठ∧ঌ)∧ࠆ)∧蕳))∨(((ৰ∧ੜ)∧ࠓ)∧鉳))∨((((((ލ∧߬)∧߬)∧殀)∨(((࡝∧ࢼ)∧߹)∧碀))∨(((भ∧ঌ)∧ࠆ)∧薀))∨(((৽∧ੜ)∧ࠓ)∧銀)))∨((((((ޚ∧߬)∧߬)∧殍)∨(((ࡪ∧ࢼ)∧߹)∧碍))∨(((ऺ∧ঌ)∧ࠆ)∧薍))∨(((ਊ∧ੜ)∧ࠓ)∧銍))))⇒ި)∧((((ޚ∧殌)∧ࢼ)∧-((((((((ހ∧߬)∧ࢼ)∧歳)∨(((ࡐ∧ࢼ)∧ࣉ)∧硳))∨(((ठ∧ঌ)∧ࣖ)∧蕳))∨(((ৰ∧ੜ)∧ࣣ)∧鉳))∨((((((ލ∧߬)∧ࢼ)∧殀)∨(((࡝∧ࢼ)∧ࣉ)∧碀))∨(((भ∧ঌ)∧ࣖ)∧薀))∨(((৽∧ੜ)∧ࣣ)∧銀)))∨((((((ޚ∧߬)∧ࢼ)∧殍)∨(((ࡪ∧ࢼ)∧ࣉ)∧碍))∨(((ऺ∧ঌ)∧ࣖ)∧薍))∨(((ਊ∧ੜ)∧ࣣ)∧銍))))⇒ࡸ))∧((((ޚ∧殌)∧ঌ)∧-((((((((ހ∧߬)∧ঌ)∧歳)∨(((ࡐ∧ࢼ)∧ঙ)∧硳))∨(((ठ∧ঌ)∧দ)∧蕳))∨(((ৰ∧ੜ)∧঳)∧鉳))∨((((((ލ∧߬)∧ঌ)∧殀)∨(((࡝∧ࢼ)∧ঙ)∧碀))∨(((भ∧ঌ)∧দ)∧薀))∨(((৽∧ੜ)∧঳)∧銀)))∨((((((ޚ∧߬)∧ঌ)∧殍)∨(((ࡪ∧ࢼ)∧ঙ)∧碍))∨(((ऺ∧ঌ)∧দ)∧薍))∨(((ਊ∧ੜ)∧঳)∧銍))))⇒ै))∧((((ޚ∧殌)∧ੜ)∧-((((((((ހ∧߬)∧ੜ)∧歳)∨(((ࡐ∧ࢼ)∧੩)∧硳))∨(((ठ∧ঌ)∧੶)∧蕳))∨(((ৰ∧ੜ)∧ઃ)∧鉳))∨((((((ލ∧߬)∧ੜ)∧殀)∨(((࡝∧ࢼ)∧੩)∧碀))∨(((भ∧ঌ)∧੶)∧薀))∨(((৽∧ੜ)∧ઃ)∧銀)))∨((((((ޚ∧߬)∧ੜ)∧殍)∨(((ࡪ∧ࢼ)∧੩)∧碍))∨(((ऺ∧ঌ)∧੶)∧薍))∨(((ਊ∧ੜ)∧ઃ)∧銍))))⇒ਘ))∧(((((((ࡪ∧碌)∧߹)∧-((((((((ހ∧߹)∧߬)∧歳)∨(((ࡐ∧ࣉ)∧߹)∧硳))∨(((ठ∧ঙ)∧ࠆ)∧蕳))∨(((ৰ∧੩)∧ࠓ)∧鉳))∨((((((ލ∧߹)∧߬)∧殀)∨(((࡝∧ࣉ)∧߹)∧碀))∨(((भ∧ঙ)∧ࠆ)∧薀))∨(((৽∧੩)∧ࠓ)∧銀)))∨((((((ޚ∧߹)∧߬)∧殍)∨(((ࡪ∧ࣉ)∧߹)∧碍))∨(((ऺ∧ঙ)∧ࠆ)∧薍))∨(((ਊ∧੩)∧ࠓ)∧銍))))⇒ި)∧((((ࡪ∧碌)∧ࣉ)∧-((((((((ހ∧߹)∧ࢼ)∧歳)∨(((ࡐ∧ࣉ)∧ࣉ)∧硳))∨(((ठ∧ঙ)∧ࣖ)∧蕳))∨(((ৰ∧੩)∧ࣣ)∧鉳))∨((((((ލ∧߹)∧ࢼ)∧殀)∨(((࡝∧ࣉ)∧ࣉ)∧碀))∨(((भ∧ঙ)∧ࣖ)∧薀))∨(((৽∧੩)∧ࣣ)∧銀)))∨((((((ޚ∧߹)∧ࢼ)∧殍)∨(((ࡪ∧ࣉ)∧ࣉ)∧碍))∨(((ऺ∧ঙ)∧ࣖ)∧薍))∨(((ਊ∧੩)∧ࣣ)∧銍))))⇒ࡸ))∧((((ࡪ∧碌)∧ঙ)∧-((((((((ހ∧߹)∧ঌ)∧歳)∨(((ࡐ∧ࣉ)∧ঙ)∧硳))∨(((ठ∧ঙ)∧দ)∧蕳))∨(((ৰ∧੩)∧঳)∧鉳))∨((((((ލ∧߹)∧ঌ)∧殀)∨(((࡝∧ࣉ)∧ঙ)∧碀))∨(((भ∧ঙ)∧দ)∧薀))∨(((৽∧੩)∧঳)∧銀)))∨((((((ޚ∧߹)∧ঌ)∧殍)∨(((ࡪ∧ࣉ)∧ঙ)∧碍))∨(((ऺ∧ঙ)∧দ)∧薍))∨(((ਊ∧੩)∧঳)∧銍))))⇒ै))∧((((ࡪ∧碌)∧੩)∧-((((((((ހ∧߹)∧ੜ)∧歳)∨(((ࡐ∧ࣉ)∧੩)∧硳))∨(((ठ∧ঙ)∧੶)∧蕳))∨(((ৰ∧੩)∧ઃ)∧鉳))∨((((((ލ∧߹)∧ੜ)∧殀)∨(((࡝∧ࣉ)∧੩)∧碀))∨(((भ∧ঙ)∧੶)∧薀))∨(((৽∧੩)∧ઃ)∧銀)))∨((((((ޚ∧߹)∧ੜ)∧殍)∨(((ࡪ∧ࣉ)∧੩)∧碍))∨(((ऺ∧ঙ)∧੶)∧薍))∨(((ਊ∧੩)∧ઃ)∧銍))))⇒ਘ)))∧(((((((ऺ∧薌)∧ࠆ)∧-((((((((ހ∧ࠆ)∧߬)∧歳)∨(((ࡐ∧ࣖ)∧߹)∧硳))∨(((ठ∧দ)∧ࠆ)∧蕳))∨(((ৰ∧੶)∧ࠓ)∧鉳))∨((((((ލ∧ࠆ)∧߬)∧殀)∨(((࡝∧ࣖ)∧߹)∧碀))∨(((भ∧দ)∧ࠆ)∧薀))∨(((৽∧੶)∧ࠓ)∧銀)))∨((((((ޚ∧ࠆ)∧߬)∧殍)∨(((ࡪ∧ࣖ)∧߹)∧碍))∨(((ऺ∧দ)∧ࠆ)∧薍))∨(((ਊ∧੶)∧ࠓ)∧銍))))⇒ި)∧((((ऺ∧薌)∧ࣖ)∧-((((((((ހ∧ࠆ)∧ࢼ)∧歳)∨(((ࡐ∧ࣖ)∧ࣉ)∧硳))∨(((ठ∧দ)∧ࣖ)∧蕳))∨(((ৰ∧੶)∧ࣣ)∧鉳))∨((((((ލ∧ࠆ)∧ࢼ)∧殀)∨(((࡝∧ࣖ)∧ࣉ)∧碀))∨(((भ∧দ)∧ࣖ)∧薀))∨(((৽∧੶)∧ࣣ)∧銀)))∨((((((ޚ∧ࠆ)∧ࢼ)∧殍)∨(((ࡪ∧ࣖ)∧ࣉ)∧碍))∨(((ऺ∧দ)∧ࣖ)∧薍))∨(((ਊ∧੶)∧ࣣ)∧銍))))⇒ࡸ))∧((((ऺ∧薌)∧দ)∧-((((((((ހ∧ࠆ)∧ঌ)∧歳)∨(((ࡐ∧ࣖ)∧ঙ)∧硳))∨(((ठ∧দ)∧দ)∧蕳))∨(((ৰ∧੶)∧঳)∧鉳))∨((((((ލ∧ࠆ)∧ঌ)∧殀)∨(((࡝∧ࣖ)∧ঙ)∧碀))∨(((भ∧দ)∧দ)∧薀))∨(((৽∧੶)∧঳)∧銀)))∨((((((ޚ∧ࠆ)∧ঌ)∧殍)∨(((ࡪ∧ࣖ)∧ঙ)∧碍))∨(((ऺ∧দ)∧দ)∧薍))∨(((ਊ∧੶)∧঳)∧銍))))⇒ै))∧((((ऺ∧薌)∧੶)∧-((((((((ހ∧ࠆ)∧ੜ)∧歳)∨(((ࡐ∧ࣖ)∧੩)∧硳))∨(((ठ∧দ)∧੶)∧蕳))∨(((ৰ∧੶)∧ઃ)∧鉳))∨((((((ލ∧ࠆ)∧ੜ)∧殀)∨(((࡝∧ࣖ)∧੩)∧碀))∨(((भ∧দ)∧੶)∧薀))∨(((৽∧੶)∧ઃ)∧銀)))∨((((((ޚ∧ࠆ)∧ੜ)∧殍)∨(((ࡪ∧ࣖ)∧੩)∧碍))∨(((ऺ∧দ)∧੶)∧薍))∨(((ਊ∧੶)∧ઃ)∧銍))))⇒ਘ)))∧(((((((ਊ∧銌)∧ࠓ)∧-((((((((ހ∧ࠓ)∧߬)∧歳)∨(((ࡐ∧ࣣ)∧߹)∧硳))∨(((ठ∧঳)∧ࠆ)∧蕳))∨(((ৰ∧ઃ)∧ࠓ)∧鉳))∨((((((ލ∧ࠓ)∧߬)∧殀)∨(((࡝∧ࣣ)∧߹)∧碀))∨(((भ∧঳)∧ࠆ)∧薀))∨(((৽∧ઃ)∧ࠓ)∧銀)))∨((((((ޚ∧ࠓ)∧߬)∧殍)∨(((ࡪ∧ࣣ)∧߹)∧碍))∨(((ऺ∧঳)∧ࠆ)∧薍))∨(((ਊ∧ઃ)∧ࠓ)∧銍))))⇒ި)∧((((ਊ∧銌)∧ࣣ)∧-((((((((ހ∧ࠓ)∧ࢼ)∧歳)∨(((ࡐ∧ࣣ)∧ࣉ)∧硳))∨(((ठ∧঳)∧ࣖ)∧蕳))∨(((ৰ∧ઃ)∧ࣣ)∧鉳))∨((((((ލ∧ࠓ)∧ࢼ)∧殀)∨(((࡝∧ࣣ)∧ࣉ)∧碀))∨(((भ∧঳)∧ࣖ)∧薀))∨(((৽∧ઃ)∧ࣣ)∧銀)))∨((((((ޚ∧ࠓ)∧ࢼ)∧殍)∨(((ࡪ∧ࣣ)∧ࣉ)∧碍))∨(((ऺ∧঳)∧ࣖ)∧薍))∨(((ਊ∧ઃ)∧ࣣ)∧銍))))⇒ࡸ))∧((((ਊ∧銌)∧঳)∧-((((((((ހ∧ࠓ)∧ঌ)∧歳)∨(((ࡐ∧ࣣ)∧ঙ)∧硳))∨(((ठ∧঳)∧দ)∧蕳))∨(((ৰ∧ઃ)∧঳)∧鉳))∨((((((ލ∧ࠓ)∧ঌ)∧殀)∨(((࡝∧ࣣ)∧ঙ)∧碀))∨(((भ∧঳)∧দ)∧薀))∨(((৽∧ઃ)∧঳)∧銀)))∨((((((ޚ∧ࠓ)∧ঌ)∧殍)∨(((ࡪ∧ࣣ)∧ঙ)∧碍))∨(((ऺ∧঳)∧দ)∧薍))∨(((ਊ∧ઃ)∧঳)∧銍))))⇒ै))∧((((ਊ∧銌)∧ઃ)∧-((((((((ހ∧ࠓ)∧ੜ)∧歳)∨(((ࡐ∧ࣣ)∧੩)∧硳))∨(((ठ∧঳)∧੶)∧蕳))∨(((ৰ∧ઃ)∧ઃ)∧鉳))∨((((((ލ∧ࠓ)∧ੜ)∧殀)∨(((࡝∧ࣣ)∧੩)∧碀))∨(((भ∧঳)∧੶)∧薀))∨(((৽∧ઃ)∧ઃ)∧銀)))∨((((((ޚ∧ࠓ)∧ੜ)∧殍)∨(((ࡪ∧ࣣ)∧੩)∧碍))∨(((ऺ∧঳)∧੶)∧薍))∨(((ਊ∧ઃ)∧ઃ)∧銍))))⇒ਘ)))\n"
     ]
    }
   ],
   "source": [
    "Cod1 = B1.codificar(sit)\n",
    "print(A1, '=>', Cod1)\n",
    "\n",
    "Cod_ax1 = axioma1.codificar(sit)\n",
    "print(Axioma1, '=>', Cod_ax1)"
   ]
  },
  {
   "cell_type": "code",
   "execution_count": 268,
   "metadata": {},
   "outputs": [
    {
     "name": "stdout",
     "output_type": "stream",
     "text": [
      "$\f",
      "orall ti0, ((HoldsAt(f_1,ti0)∧HoldsAt(f_0,ti0))⇒HoldsAt(f_3,ti0))$ => (((((޵∧ި)⇒ߏ)∧((ࢅ∧ࡸ)⇒࢟))∧((ॕ∧ै)⇒९))∧((ਥ∧ਘ)⇒ਿ))\n"
     ]
    }
   ],
   "source": [
    "Cod_ax2 = axioma2.codificar(sit)\n",
    "print(Axioma2, '=>', Cod_ax2)"
   ]
  },
  {
   "cell_type": "code",
   "execution_count": 269,
   "metadata": {},
   "outputs": [
    {
     "name": "stdout",
     "output_type": "stream",
     "text": [
      "$\f",
      "orall ti3, ((HoldsAt(f_2,ti3)∧HoldsAt(f_0,ti3))⇒HoldsAt(f_4,ti3))$ => (((((߂∧ި)⇒ߜ)∧((࢒∧ࡸ)⇒ࢬ))∧((ॢ∧ै)⇒ॼ))∧((ਲ∧ਘ)⇒ੌ))\n"
     ]
    }
   ],
   "source": [
    "Cod_ax3 = axioma3.codificar(sit)\n",
    "print(Axioma3, '=>', Cod_ax3)"
   ]
  },
  {
   "cell_type": "code",
   "execution_count": 270,
   "metadata": {},
   "outputs": [
    {
     "name": "stdout",
     "output_type": "stream",
     "text": [
      "$\f",
      "orall ti0, Initiates(e_1,f_2,ti0)$ => (((洟∧稟)∧蜟)∧鐟)\n",
      "$\f",
      "orall ti0, Terminates(e_1,f_1,ti0)$ => (((汐∧祐)∧虐)∧鍐)\n",
      "$\f",
      "orall ti0, (Happens(e_1,ti0)⇒(Terminates(e_1,f_1,ti0)∧Initiates(e_1,f_2,ti0)))$ => ((((ލ⇒(汐∧洟))∧(࡝⇒(祐∧稟)))∧(भ⇒(虐∧蜟)))∧(৽⇒(鍐∧鐟)))\n"
     ]
    }
   ],
   "source": [
    "Cod2 = B4.codificar(sit)\n",
    "print(A4, '=>', Cod2)\n",
    "\n",
    "Cod3 = B5.codificar(sit)\n",
    "print(A5, '=>', Cod3)\n",
    "\n",
    "Cod_ax4 = axioma4.codificar(sit)\n",
    "print(Axioma4, '=>', Cod_ax4)"
   ]
  },
  {
   "cell_type": "code",
   "execution_count": 271,
   "metadata": {},
   "outputs": [
    {
     "name": "stdout",
     "output_type": "stream",
     "text": [
      "$\f",
      "orall ti0, (HoldsAt(f_1,ti0)⇒-HoldsAt(f_2,ti0))$ => ((((޵⇒-߂)∧(ࢅ⇒-࢒))∧(ॕ⇒-ॢ))∧(ਥ⇒-ਲ))\n"
     ]
    }
   ],
   "source": [
    "Cod_ax5 = axioma5.codificar(sit)\n",
    "print(Axioma5, '=>', Cod_ax5)"
   ]
  },
  {
   "cell_type": "code",
   "execution_count": 272,
   "metadata": {},
   "outputs": [
    {
     "name": "stdout",
     "output_type": "stream",
     "text": [
      "$\f",
      "orall ti0, (HoldsAt(f_2,ti0)⇒-HoldsAt(f_1,ti0))$ => ((((߂⇒-޵)∧(࢒⇒-ࢅ))∧(ॢ⇒-ॕ))∧(ਲ⇒-ਥ))\n"
     ]
    }
   ],
   "source": [
    "Cod_ax6 = axioma6.codificar(sit)\n",
    "print(Axioma6, '=>', Cod_ax6)"
   ]
  },
  {
   "cell_type": "markdown",
   "metadata": {},
   "source": [
    "---"
   ]
  },
  {
   "cell_type": "markdown",
   "metadata": {},
   "source": [
    "# Uso de DPLL <a class=\"anchor\" id=\"dpll\"></a>\n",
    "\n",
    "([Volver al inicio](#inicio))\n"
   ]
  },
  {
   "cell_type": "code",
   "execution_count": 273,
   "metadata": {},
   "outputs": [],
   "source": [
    "A5 = f'({Axioma5}∧{Axioma6})'\n",
    "A6 = f'({A5}∧{Axioma4})'\n",
    "A7 = f'({Axioma3_3}∧{Axioma2_2})'\n",
    "A8 = f'({A6}∧{A7})'\n",
    "A9 = f'({A8}∧{Axioma1})'\n",
    "\n",
    "premisas = sit.parse_cadena(A9)"
   ]
  },
  {
   "cell_type": "code",
   "execution_count": 274,
   "metadata": {},
   "outputs": [],
   "source": [
    "def ASK_dpll(objetivo, premisas, valor, sit):\n",
    "    F = Negacion(Regla(premisas, objetivo))\n",
    "    A = F.codificar(sit)\n",
    "    B = tseitin(A)\n",
    "    res = pycosat.solve(B)\n",
    "    return ((res == 'UNSAT') and valor == 'success')"
   ]
  },
  {
   "cell_type": "code",
   "execution_count": 275,
   "metadata": {},
   "outputs": [],
   "source": [
    "pregunta = 'HoldsAt(f_3,1)' #La laptop está en Bogotá el 10 de dic en la noche \n",
    "objetivo = sit.parse_cadena(pregunta)"
   ]
  },
  {
   "cell_type": "code",
   "execution_count": 276,
   "metadata": {},
   "outputs": [
    {
     "data": {
      "text/plain": [
       "False"
      ]
     },
     "execution_count": 276,
     "metadata": {},
     "output_type": "execute_result"
    }
   ],
   "source": [
    "ASK_dpll(objetivo, premisas, 'success', sit)"
   ]
  },
  {
   "cell_type": "code",
   "execution_count": 277,
   "metadata": {},
   "outputs": [],
   "source": [
    "pregunta = 'HoldsAt(f_4,3)' #La laptop está en Medellin el 11 de dic en la noche \n",
    "objetivo = sit.parse_cadena(pregunta)"
   ]
  },
  {
   "cell_type": "code",
   "execution_count": 278,
   "metadata": {},
   "outputs": [
    {
     "data": {
      "text/plain": [
       "False"
      ]
     },
     "execution_count": 278,
     "metadata": {},
     "output_type": "execute_result"
    }
   ],
   "source": [
    "ASK_dpll(objetivo, premisas, 'success', sit)"
   ]
  },
  {
   "cell_type": "markdown",
   "metadata": {},
   "source": [
    "---"
   ]
  }
 ],
 "metadata": {
  "kernelspec": {
   "display_name": "Python 3",
   "language": "python",
   "name": "python3"
  },
  "language_info": {
   "codemirror_mode": {
    "name": "ipython",
    "version": 3
   },
   "file_extension": ".py",
   "mimetype": "text/x-python",
   "name": "python",
   "nbconvert_exporter": "python",
   "pygments_lexer": "ipython3",
   "version": "3.8.5"
  }
 },
 "nbformat": 4,
 "nbformat_minor": 4
}
